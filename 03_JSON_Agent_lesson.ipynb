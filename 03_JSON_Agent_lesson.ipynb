{
  "nbformat": 4,
  "nbformat_minor": 0,
  "metadata": {
    "colab": {
      "provenance": []
    },
    "kernelspec": {
      "name": "python3",
      "display_name": "Python 3"
    },
    "language_info": {
      "name": "python"
    }
  },
  "cells": [
    {
      "cell_type": "code",
      "source": [
        "import json"
      ],
      "metadata": {
        "id": "OTiExpNXaylT"
      },
      "execution_count": null,
      "outputs": []
    },
    {
      "cell_type": "code",
      "execution_count": null,
      "metadata": {
        "id": "GI0hxYtMOc-3"
      },
      "outputs": [],
      "source": [
        "pokemon_card = {\n",
        "    \"name\": \"Pikachu\",\n",
        "    \"type\": \"Electric\",\n",
        "    \"HP\": 100\n",
        "}\n",
        "\n",
        "schema = {\n",
        "    \"type\": \"object\",\n",
        "    \"properties\": {\n",
        "        \"name\": {\"type\": \"string\"},\n",
        "        \"type\": {\"type\": \"string\"},\n",
        "        \"HP\": {\"type\": \"integer\"}\n",
        "    },\n",
        "    \"required\": [\"name\", \"type\", \"HP\"]\n",
        "}\n",
        "\n",
        "example = \"\"\"{\n",
        "    \"name\": \"Pikachu\",\n",
        "    \"type\": \"Electric\",\n",
        "    \"HP\": \"100\"\n",
        "}\n",
        "\"\"\"\n",
        "\n",
        "\n",
        "schema_string = \"\"\"\n",
        "{\n",
        "    \"type\": \"object\",\n",
        "    \"properties\": {\n",
        "        \"name\": {\"type\": \"string\"},\n",
        "        \"type\": {\"type\": \"string\"},\n",
        "        \"HP\": {\"type\": \"integer\"}\n",
        "    },\n",
        "    \"required\": [\"name\", \"type\", \"HP\"]\n",
        "}\n",
        "\"\"\""
      ]
    },
    {
      "cell_type": "code",
      "source": [
        "from openai import OpenAI\n",
        "from google.colab import userdata\n",
        "\n",
        "client = OpenAI(\n",
        "  api_key=userdata.get(\"TOGETHER_API_KEY\"),\n",
        "  base_url=\"https://api.together.xyz/v1\",\n",
        ")\n",
        "\n",
        "completion = client.chat.completions.create(\n",
        "  model=\"meta-llama/Meta-Llama-3.1-70B-Instruct-Turbo\",\n",
        "  messages=[\n",
        "    {\"role\": \"user\", \"content\": \"Generate a Pokemon card\"}\n",
        "  ],\n",
        "  response_format={ \"type\": \"json_object\", \"schema\": schema }\n",
        ")\n",
        "\n",
        "print(completion.choices[0].message.content)\n"
      ],
      "metadata": {
        "colab": {
          "base_uri": "https://localhost:8080/"
        },
        "id": "6kuCPqeiQK_P",
        "outputId": "fd22eb7a-8a2f-4110-c9be-0ca1f163f56b"
      },
      "execution_count": null,
      "outputs": [
        {
          "output_type": "stream",
          "name": "stdout",
          "text": [
            "{\"name\": \"Giratina\", \"type\": \"Ghost/Dragon\", \"HP\": 130}\n"
          ]
        }
      ]
    },
    {
      "cell_type": "code",
      "source": [
        "tools = [\n",
        "  {\n",
        "    \"type\": \"function\",\n",
        "    \"function\": {\n",
        "      \"name\": \"calculator\",\n",
        "      \"description\": \"Useful for when you need to answer questions about math. Use SymPy expressions\",\n",
        "    \"parameters\": {\n",
        "      \"type\": \"object\",\n",
        "      \"properties\": {\n",
        "        \"expression\": {\"type\": \"string\", \"description\": \"The expression to evaluate\"}\n",
        "      },\n",
        "      \"required\": [\"expression\"]\n",
        "    }\n",
        "    }\n",
        "  },\n",
        "   {\n",
        "    \"type\": \"function\",\n",
        "    \"function\": {\n",
        "      \"name\": \"check_weather\",\n",
        "      \"description\": \"Useful for when you need to check the weather\",\n",
        "    \"parameters\": {\n",
        "      \"type\": \"object\",\n",
        "      \"properties\": {\n",
        "        \"city_name\": {\"type\": \"string\", \"description\": \"Name of city NOT the country\"}\n",
        "      },\n",
        "      \"required\": [\"expression\"]\n",
        "    }\n",
        "    }\n",
        "  }\n",
        "]\n",
        "\n",
        "completion = client.chat.completions.create(\n",
        "  model=\"meta-llama/Llama-3.3-70B-Instruct-Turbo-Free\",\n",
        "  messages=[\n",
        "    {\"role\": \"user\", \"content\": \"What's the weather in France today?\"}\n",
        "  ],\n",
        "  tools=tools\n",
        ")"
      ],
      "metadata": {
        "id": "2r4uDw4dRF_C"
      },
      "execution_count": null,
      "outputs": []
    },
    {
      "cell_type": "code",
      "source": [
        "print(completion.choices[0].message.tool_calls[0].function)"
      ],
      "metadata": {
        "colab": {
          "base_uri": "https://localhost:8080/"
        },
        "id": "HZJxfsz2VYRY",
        "outputId": "1172ae1e-c6af-4983-eef2-c905950207fe"
      },
      "execution_count": null,
      "outputs": [
        {
          "output_type": "stream",
          "name": "stdout",
          "text": [
            "Function(arguments='{\"city_name\":\"Paris\"}', name='check_weather')\n"
          ]
        }
      ]
    },
    {
      "cell_type": "code",
      "source": [
        "print(completion.choices[0].message.tool_calls[0].function.arguments)"
      ],
      "metadata": {
        "colab": {
          "base_uri": "https://localhost:8080/"
        },
        "id": "UAampym_Xref",
        "outputId": "d6859cb7-ef44-4dfc-bd66-8bf3946037f5"
      },
      "execution_count": null,
      "outputs": [
        {
          "output_type": "stream",
          "name": "stdout",
          "text": [
            "{\"city_name\":\"Paris\"}\n"
          ]
        }
      ]
    },
    {
      "cell_type": "code",
      "source": [
        "print(completion.choices[0].message.tool_calls[0].function.name)"
      ],
      "metadata": {
        "colab": {
          "base_uri": "https://localhost:8080/"
        },
        "id": "uaI6mFMqXufu",
        "outputId": "308a6ac8-2054-41f3-fd97-8d6e5cd604d6"
      },
      "execution_count": null,
      "outputs": [
        {
          "output_type": "stream",
          "name": "stdout",
          "text": [
            "check_weather\n"
          ]
        }
      ]
    },
    {
      "cell_type": "code",
      "source": [
        "import requests\n",
        "\n",
        "def get_weather_by_city(city):\n",
        "    api_key = userdata.get('OPENWEATHER_API_KEY')  # Replace with your OpenWeather API key\n",
        "    url = f'https://api.openweathermap.org/data/2.5/weather?q={city}&appid={api_key}&units=metric'\n",
        "\n",
        "    try:\n",
        "        response = requests.get(url)\n",
        "        response.raise_for_status()  # Raise an error for bad responses\n",
        "        data = response.json()\n",
        "        print(data)  # You can return or process the data as needed\n",
        "        return data\n",
        "    except requests.exceptions.HTTPError as err:\n",
        "        print(f'HTTP error occurred: {err}')\n",
        "    except Exception as e:\n",
        "        print(f'An error occurred: {e}')\n",
        "\n",
        "# Example usage\n",
        "get_weather_by_city('Paris')"
      ],
      "metadata": {
        "colab": {
          "base_uri": "https://localhost:8080/"
        },
        "id": "u80bnvPBbiS2",
        "outputId": "ddffa706-4a76-4c00-adfa-9db36c6b03e5"
      },
      "execution_count": null,
      "outputs": [
        {
          "output_type": "stream",
          "name": "stdout",
          "text": [
            "{'coord': {'lon': 2.3488, 'lat': 48.8534}, 'weather': [{'id': 800, 'main': 'Clear', 'description': 'clear sky', 'icon': '01n'}], 'base': 'stations', 'main': {'temp': 3.84, 'feels_like': 3.84, 'temp_min': 3.84, 'temp_max': 3.84, 'pressure': 1034, 'humidity': 75, 'sea_level': 1034, 'grnd_level': 1024}, 'visibility': 10000, 'wind': {'speed': 1.32, 'deg': 50, 'gust': 1.32}, 'clouds': {'all': 3}, 'dt': 1737137440, 'sys': {'country': 'FR', 'sunrise': 1737099425, 'sunset': 1737131036}, 'timezone': 3600, 'id': 2988507, 'name': 'Paris', 'cod': 200}\n"
          ]
        },
        {
          "output_type": "execute_result",
          "data": {
            "text/plain": [
              "{'coord': {'lon': 2.3488, 'lat': 48.8534},\n",
              " 'weather': [{'id': 800,\n",
              "   'main': 'Clear',\n",
              "   'description': 'clear sky',\n",
              "   'icon': '01n'}],\n",
              " 'base': 'stations',\n",
              " 'main': {'temp': 3.84,\n",
              "  'feels_like': 3.84,\n",
              "  'temp_min': 3.84,\n",
              "  'temp_max': 3.84,\n",
              "  'pressure': 1034,\n",
              "  'humidity': 75,\n",
              "  'sea_level': 1034,\n",
              "  'grnd_level': 1024},\n",
              " 'visibility': 10000,\n",
              " 'wind': {'speed': 1.32, 'deg': 50, 'gust': 1.32},\n",
              " 'clouds': {'all': 3},\n",
              " 'dt': 1737137440,\n",
              " 'sys': {'country': 'FR', 'sunrise': 1737099425, 'sunset': 1737131036},\n",
              " 'timezone': 3600,\n",
              " 'id': 2988507,\n",
              " 'name': 'Paris',\n",
              " 'cod': 200}"
            ]
          },
          "metadata": {},
          "execution_count": 46
        }
      ]
    },
    {
      "cell_type": "code",
      "source": [
        "chat_history=[\n",
        "    {\n",
        "        \"role\": \"user\",\n",
        "        \"content\": \"What's the weather in France today?\"\n",
        "    }\n",
        "  ]\n",
        "\n",
        "while True:\n",
        "\n",
        "  completion = client.chat.completions.create(\n",
        "    model=\"meta-llama/Llama-3.3-70B-Instruct-Turbo-Free\",\n",
        "    messages=chat_history,\n",
        "    tools=tools\n",
        "  )\n",
        "\n",
        "  tool_calls = completion.choices[0].message.tool_calls\n",
        "\n",
        "\n",
        "  if tool_calls:\n",
        "    arguments = tool_calls[0].function.arguments\n",
        "    print(arguments)\n",
        "    name = tool_calls[0].function.name\n",
        "    print(name)\n",
        "\n",
        "    chat_history.append(completion.choices[0].message)\n",
        "\n",
        "    if name == \"check_weather\":\n",
        "      city = json.loads(arguments)[\"city_name\"]\n",
        "      weather_data = get_weather_by_city(city)\n",
        "      chat_history.append({\n",
        "          \"role\": \"function\",\n",
        "          \"name\": name,\n",
        "          \"content\": json.dumps(weather_data)\n",
        "      })\n",
        "  else:\n",
        "    print(completion.choices[0].message.content)\n",
        "    break"
      ],
      "metadata": {
        "id": "AU1U5kJAVbpw",
        "colab": {
          "base_uri": "https://localhost:8080/"
        },
        "outputId": "09aec825-1ab1-4cad-aa7d-2925c472865d"
      },
      "execution_count": null,
      "outputs": [
        {
          "output_type": "stream",
          "name": "stdout",
          "text": [
            "{\"city_name\":\"Paris\"}\n",
            "check_weather\n",
            "{'coord': {'lon': 2.3488, 'lat': 48.8534}, 'weather': [{'id': 800, 'main': 'Clear', 'description': 'clear sky', 'icon': '01n'}], 'base': 'stations', 'main': {'temp': 3.84, 'feels_like': 3.84, 'temp_min': 3.84, 'temp_max': 3.84, 'pressure': 1034, 'humidity': 75, 'sea_level': 1034, 'grnd_level': 1024}, 'visibility': 10000, 'wind': {'speed': 1.32, 'deg': 50, 'gust': 1.32}, 'clouds': {'all': 3}, 'dt': 1737137401, 'sys': {'country': 'FR', 'sunrise': 1737099425, 'sunset': 1737131036}, 'timezone': 3600, 'id': 2988507, 'name': 'Paris', 'cod': 200}\n",
            "The weather in Paris, France today is clear with a temperature of 3.84 degrees Celsius and a humidity of 75%. The wind speed is 1.32 meters per second, and the visibility is 10 kilometers.\n"
          ]
        }
      ]
    }
  ]
}