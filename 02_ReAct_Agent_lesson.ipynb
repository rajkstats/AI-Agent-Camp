{
  "nbformat": 4,
  "nbformat_minor": 0,
  "metadata": {
    "colab": {
      "provenance": []
    },
    "kernelspec": {
      "name": "python3",
      "display_name": "Python 3"
    },
    "language_info": {
      "name": "python"
    }
  },
  "cells": [
    {
      "cell_type": "code",
      "source": [
        "from sympy import sympify\n",
        "\n",
        "def calculator(expression):\n",
        "  try:\n",
        "    result = sympify(expression)\n",
        "    return str(result)\n",
        "  except Exception as e:\n",
        "    return str(e)"
      ],
      "metadata": {
        "id": "nz1dkwWs3s4R"
      },
      "execution_count": 130,
      "outputs": []
    },
    {
      "cell_type": "code",
      "source": [
        "calculator(1*2*3*4*5)"
      ],
      "metadata": {
        "colab": {
          "base_uri": "https://localhost:8080/",
          "height": 35
        },
        "id": "m0TMLo2435Bz",
        "outputId": "89fe3443-3e0f-468d-9c91-ea88eee38547"
      },
      "execution_count": 131,
      "outputs": [
        {
          "output_type": "execute_result",
          "data": {
            "text/plain": [
              "'120'"
            ],
            "application/vnd.google.colaboratory.intrinsic+json": {
              "type": "string"
            }
          },
          "metadata": {},
          "execution_count": 131
        }
      ]
    },
    {
      "cell_type": "code",
      "source": [
        "import re\n",
        "\n",
        "def extract_action_and_input(text):\n",
        "  action = re.search(r\"Action: (.*)\", text)\n",
        "  action_input = re.search(r\"Action Input: (.*)\", text)\n",
        "  return action.group(1).strip() if action else None, action_input.group(1).strip() if action else None\n",
        "\n",
        "extract_action_and_input(\"\"\"\n",
        "Thought: To calculate the square root of 144, I can use the math library in Python or a calculator.\n",
        "\n",
        "Action: Calculator\n",
        "Action Input: sqrt(144)\n",
        "\"\"\")"
      ],
      "metadata": {
        "colab": {
          "base_uri": "https://localhost:8080/"
        },
        "id": "KwyK1jP9VOqa",
        "outputId": "edcfb5c9-0506-4106-c2bb-f99228d892fa"
      },
      "execution_count": 132,
      "outputs": [
        {
          "output_type": "execute_result",
          "data": {
            "text/plain": [
              "('Calculator', 'sqrt(144)')"
            ]
          },
          "metadata": {},
          "execution_count": 132
        }
      ]
    },
    {
      "cell_type": "code",
      "execution_count": 133,
      "metadata": {
        "colab": {
          "base_uri": "https://localhost:8080/"
        },
        "id": "bxUYXwwM-DAy",
        "outputId": "69592d9d-5ab4-42b3-ccd3-1acb8cfb2cfe"
      },
      "outputs": [
        {
          "output_type": "stream",
          "name": "stdout",
          "text": [
            "Thought: To calculate the square root of 144, I need to use a mathematical operation that will give me the number that, when multiplied by itself, equals 144.\n",
            "\n",
            "Action: Calculator\n",
            "Action Input: sympy.sqrt(144)\n",
            "\n",
            "Observation: 'Symbol' object has no attribute 'sqrt'\n",
            "Thought: It seems like the sqrt function is not available in the SymPy calculator. I need to find another way to calculate the square root of 144. I know that in SymPy, the square root of a number can be calculated by raising the number to the power of 1/2.\n",
            "\n",
            "Action: Calculator\n",
            "Action Input: 144 ** (1/2)\n",
            "Observation: 12\n",
            "Thought: I now know the final answer!\n",
            "\n",
            "Final Answer: The final answer is 12.\n"
          ]
        }
      ],
      "source": [
        "from openai import OpenAI\n",
        "from google.colab import userdata\n",
        "\n",
        "\n",
        "client = OpenAI(\n",
        "  base_url=\"https://openrouter.ai/api/v1\",\n",
        "  api_key=userdata.get('OPENROUTER_API_KEY'),\n",
        ")\n",
        "\n",
        "user_prompt = \"Calculate the square root of 144\"\n",
        "\n",
        "chat_history = [\n",
        "          {\n",
        "      \"role\": \"system\",\n",
        "      \"content\": \"\"\"\n",
        "      You have access to the following tools:\n",
        "      Calculator: Use this when you want to do math. Use SymPy expressions, not math function, e.g 2 + 2\n",
        "\n",
        "      Use the following format:\n",
        "\n",
        "      Question: the input question you must answer\n",
        "      Thought: you should always think what to do\n",
        "      Action: the action to take, should be one of [Calculator]\n",
        "      Action Input: the input to the action\n",
        "      Observation: result of the action\n",
        "      ...(the Thought/Action/Observation can repeat any number of times)\n",
        "      Thought: I now know the final answer!\n",
        "      Final Answer: the final answer to the original input question\n",
        "      \"\"\"\n",
        "    },\n",
        "    {\n",
        "      \"role\": \"user\",\n",
        "      \"content\":f\"Question: {user_prompt}\"\n",
        "    }\n",
        "  ]\n",
        "\n",
        "while True:\n",
        "  completion = client.chat.completions.create(\n",
        "    model=\"meta-llama/llama-3.2-90b-vision-instruct:free\",\n",
        "    messages=chat_history,\n",
        "    stop = [\"Observation:\"]\n",
        "  )\n",
        "\n",
        "  response_text = completion.choices[0].message.content\n",
        "\n",
        "  print(response_text)\n",
        "\n",
        "  action, action_input = extract_action_and_input(response_text)\n",
        "\n",
        "\n",
        "  # We want to see if the LLM took an action\n",
        "  if action == 'Calculator':\n",
        "    action_result= calculator(action_input)\n",
        "    print(f\"Observation: {action_result}\")\n",
        "    chat_history.extend([\n",
        "        {\"role\":\"assistant\", \"content\" : response_text},\n",
        "        {\"role\":\"user\", \"content\": f\"Observation: {action_result}\" }\n",
        "    ])\n",
        "  else:\n",
        "    break"
      ]
    },
    {
      "cell_type": "code",
      "source": [
        " print(completion.choices[0].message)"
      ],
      "metadata": {
        "colab": {
          "base_uri": "https://localhost:8080/"
        },
        "id": "bpqL10Kd_yeJ",
        "outputId": "9cec75a1-3c8d-4f99-939f-9535226033b6"
      },
      "execution_count": 134,
      "outputs": [
        {
          "output_type": "stream",
          "name": "stdout",
          "text": [
            "ChatCompletionMessage(content='Thought: I now know the final answer!\\n\\nFinal Answer: The final answer is 12.', refusal='', role='assistant', audio=None, function_call=None, tool_calls=None)\n"
          ]
        }
      ]
    },
    {
      "cell_type": "code",
      "source": [
        "print(response_text)"
      ],
      "metadata": {
        "colab": {
          "base_uri": "https://localhost:8080/"
        },
        "id": "N8n8XYaT1sTj",
        "outputId": "b5c54682-950d-4e21-dd71-cb6b34f3a736"
      },
      "execution_count": 135,
      "outputs": [
        {
          "output_type": "stream",
          "name": "stdout",
          "text": [
            "Thought: I now know the final answer!\n",
            "\n",
            "Final Answer: The final answer is 12.\n"
          ]
        }
      ]
    },
    {
      "cell_type": "code",
      "source": [
        "chat_history.extend([\n",
        "    {\"role\":\"assistant\", \"content\" : response_text},\n",
        "    {\"role\":\"user\", \"content\": \"Observation: The knife did not work! A tree has fallen down between you and presents\" }\n",
        "    ])"
      ],
      "metadata": {
        "id": "K5vw6IXbCpDx"
      },
      "execution_count": 136,
      "outputs": []
    },
    {
      "cell_type": "code",
      "source": [
        "chat_history"
      ],
      "metadata": {
        "colab": {
          "base_uri": "https://localhost:8080/"
        },
        "id": "QhYeFdeEEen7",
        "outputId": "d8991333-e523-4768-8f8a-e4cba9afb214"
      },
      "execution_count": 137,
      "outputs": [
        {
          "output_type": "execute_result",
          "data": {
            "text/plain": [
              "[{'role': 'system',\n",
              "  'content': '\\n      You have access to the following tools:\\n      Calculator: Use this when you want to do math. Use SymPy expressions, not math function, e.g 2 + 2  \\n\\n      Use the following format:\\n\\n      Question: the input question you must answer\\n      Thought: you should always think what to do\\n      Action: the action to take, should be one of [Calculator]\\n      Action Input: the input to the action\\n      Observation: result of the action\\n      ...(the Thought/Action/Observation can repeat any number of times)\\n      Thought: I now know the final answer! \\n      Final Answer: the final answer to the original input question\\n      '},\n",
              " {'role': 'user', 'content': 'Question: Calculate the square root of 144'},\n",
              " {'role': 'assistant',\n",
              "  'content': 'Thought: To calculate the square root of 144, I need to use a mathematical operation that will give me the number that, when multiplied by itself, equals 144.\\n\\nAction: Calculator\\nAction Input: sympy.sqrt(144)\\n'},\n",
              " {'role': 'user',\n",
              "  'content': \"Observation: 'Symbol' object has no attribute 'sqrt'\"},\n",
              " {'role': 'assistant',\n",
              "  'content': 'Thought: It seems like the sqrt function is not available in the SymPy calculator. I need to find another way to calculate the square root of 144. I know that in SymPy, the square root of a number can be calculated by raising the number to the power of 1/2.\\n\\nAction: Calculator\\nAction Input: 144 ** (1/2)'},\n",
              " {'role': 'user', 'content': 'Observation: 12'},\n",
              " {'role': 'assistant',\n",
              "  'content': 'Thought: I now know the final answer!\\n\\nFinal Answer: The final answer is 12.'},\n",
              " {'role': 'user',\n",
              "  'content': 'Observation: The knife did not work! A tree has fallen down between you and presents'}]"
            ]
          },
          "metadata": {},
          "execution_count": 137
        }
      ]
    },
    {
      "cell_type": "code",
      "source": [
        "completion = client.chat.completions.create(\n",
        "  model=\"meta-llama/llama-3.2-90b-vision-instruct:free\",\n",
        "  messages=chat_history\n",
        ")\n",
        "response_text = completion.choices[0].message.content"
      ],
      "metadata": {
        "id": "LoOjUfNfEh6E"
      },
      "execution_count": 138,
      "outputs": []
    },
    {
      "cell_type": "code",
      "source": [
        "response_text"
      ],
      "metadata": {
        "colab": {
          "base_uri": "https://localhost:8080/",
          "height": 35
        },
        "id": "1b4T6g08E_Rm",
        "outputId": "abf096cd-005e-42e4-df10-c981c69de7e9"
      },
      "execution_count": 139,
      "outputs": [
        {
          "output_type": "execute_result",
          "data": {
            "text/plain": [
              "'Thought: This is not relevant to the math problem we were solving. The square root of 144 is still the same.\\n\\nFinal Answer remains the same: The final answer is 12.'"
            ],
            "application/vnd.google.colaboratory.intrinsic+json": {
              "type": "string"
            }
          },
          "metadata": {},
          "execution_count": 139
        }
      ]
    }
  ]
}